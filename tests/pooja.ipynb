{
 "cells": [
  {
   "cell_type": "code",
   "execution_count": 7,
   "metadata": {},
   "outputs": [
    {
     "name": "stdout",
     "output_type": "stream",
     "text": [
      "The autoreload extension is already loaded. To reload it, use:\n",
      "  %reload_ext autoreload\n"
     ]
    }
   ],
   "source": [
    "%matplotlib notebook\n",
    "%load_ext autoreload\n",
    "%autoreload 2\n",
    "import matplotlib.pyplot as plt\n",
    "import matplotlib.mlab as mlab\n",
    "\n",
    "import pooja as pj\n",
    "from pathlib import Path"
   ]
  },
  {
   "cell_type": "code",
   "execution_count": 8,
   "metadata": {},
   "outputs": [],
   "source": [
    "db = pj.database(\"songs_100.data\")"
   ]
  },
  {
   "cell_type": "code",
   "execution_count": null,
   "metadata": {
    "scrolled": false
   },
   "outputs": [],
   "source": [
    "# Store all the songs in the MP3s folder\n",
    "\n",
    "db = pj.database()\n",
    "\n",
    "path = Path(\"MP3s\")\n",
    "song_names = list(path.glob(\"*.mp3\"))\n",
    "\n",
    "for song_name in song_names:\n",
    "    db.add_mp3(song_name)\n",
    "    print(\"{} is added to database\".format(song_name))\n",
    "\n",
    "\n",
    "print(\"Database completed\")\n",
    "db.store(\"songs_100.data\")"
   ]
  },
  {
   "cell_type": "code",
   "execution_count": 3,
   "metadata": {},
   "outputs": [
    {
     "data": {
      "text/plain": [
       "['Ellie Goulding - Lights',\n",
       " 'Timeflies - Gravity (Official Audio)',\n",
       " 'TaeYang - WEDDING DRESS',\n",
       " 'Taio Cruz - Telling The World (Audio)',\n",
       " 'River Flows in You',\n",
       " 'Adele - Someone Like You',\n",
       " 'Demons',\n",
       " 'Popper Requiem for three cellos and piano']"
      ]
     },
     "execution_count": 3,
     "metadata": {},
     "output_type": "execute_result"
    }
   ],
   "source": [
    "db.song_info"
   ]
  },
  {
   "cell_type": "code",
   "execution_count": 10,
   "metadata": {
    "scrolled": false
   },
   "outputs": [
    {
     "name": "stdout",
     "output_type": "stream",
     "text": [
      "Using input device 'Built-in Microphone'\n",
      "Recording ended\n",
      "3\n",
      "((7, 6280), 15)\n",
      "Popper Requiem for three cellos and piano\n",
      "Using input device 'Built-in Microphone'\n"
     ]
    },
    {
     "name": "stderr",
     "output_type": "stream",
     "text": [
      "/Volumes/GoogleDrive/My Drive/GitHub/BWSI_2018/week1_capstone/pooja/utils.py:84: VisibleDeprecationWarning: Passing `normed=True` on non-uniform bins has always been broken, and computes neither the probability density function nor the probability mass function. The result is only correct if the bins are uniform, when density=True will produce the same result anyway. The argument will be removed in a future version of numpy.\n",
      "  count, bin_edges = np.histogram(np.log(S.flatten()), N//2, normed=True)\n"
     ]
    },
    {
     "name": "stdout",
     "output_type": "stream",
     "text": [
      "Recording ended\n",
      "3\n",
      "((7, 3869), 13)\n",
      "Popper Requiem for three cellos and piano\n",
      "Using input device 'Built-in Microphone'\n",
      "Recording ended\n",
      "3\n",
      "((6, 1937), 12)\n",
      "Demons\n",
      "Using input device 'Built-in Microphone'\n",
      "Recording ended\n",
      "3\n",
      "((7, 2520), 8)\n",
      "Popper Requiem for three cellos and piano\n",
      "Using input device 'Built-in Microphone'\n",
      "Recording ended\n",
      "3\n",
      "((7, 3876), 14)\n",
      "Popper Requiem for three cellos and piano\n",
      "Using input device 'Built-in Microphone'\n",
      "Recording ended\n",
      "3\n",
      "((5, 3973), 24)\n",
      "Adele - Someone Like You\n",
      "Using input device 'Built-in Microphone'\n",
      "Recording ended\n",
      "3\n",
      "((7, 9229), 16)\n",
      "Popper Requiem for three cellos and piano\n",
      "Using input device 'Built-in Microphone'\n",
      "Recording ended\n",
      "3\n",
      "((5, 53), 19)\n",
      "Adele - Someone Like You\n",
      "Using input device 'Built-in Microphone'\n",
      "Recording ended\n",
      "3\n",
      "((5, 3122), 139)\n",
      "Adele - Someone Like You\n",
      "Using input device 'Built-in Microphone'\n",
      "Recording ended\n",
      "3\n",
      "((5, 3214), 140)\n",
      "Adele - Someone Like You\n",
      "Using input device 'Built-in Microphone'\n",
      "Recording ended\n",
      "3\n",
      "((5, 3307), 176)\n",
      "Adele - Someone Like You\n",
      "Using input device 'Built-in Microphone'\n",
      "Recording ended\n",
      "3\n",
      "((5, 3402), 126)\n",
      "Adele - Someone Like You\n",
      "Using input device 'Built-in Microphone'\n",
      "Recording ended\n",
      "3\n",
      "((5, 3496), 70)\n",
      "Adele - Someone Like You\n",
      "Using input device 'Built-in Microphone'\n",
      "Recording ended\n",
      "3\n",
      "((5, 3589), 81)\n",
      "Adele - Someone Like You\n",
      "Using input device 'Built-in Microphone'\n",
      "Recording ended\n"
     ]
    },
    {
     "ename": "KeyboardInterrupt",
     "evalue": "",
     "output_type": "error",
     "traceback": [
      "\u001b[0;31m---------------------------------------------------------------------------\u001b[0m",
      "\u001b[0;31mKeyboardInterrupt\u001b[0m                         Traceback (most recent call last)",
      "\u001b[0;32m<ipython-input-10-677269676abe>\u001b[0m in \u001b[0;36m<module>\u001b[0;34m()\u001b[0m\n\u001b[1;32m      1\u001b[0m \u001b[0;32mwhile\u001b[0m \u001b[0;32mTrue\u001b[0m\u001b[0;34m:\u001b[0m\u001b[0;34m\u001b[0m\u001b[0m\n\u001b[0;32m----> 2\u001b[0;31m     \u001b[0mmic_input\u001b[0m \u001b[0;34m=\u001b[0m \u001b[0mpj\u001b[0m\u001b[0;34m.\u001b[0m\u001b[0minput_mic\u001b[0m\u001b[0;34m(\u001b[0m\u001b[0;36m4\u001b[0m\u001b[0;34m)\u001b[0m\u001b[0;34m\u001b[0m\u001b[0m\n\u001b[0m\u001b[1;32m      3\u001b[0m     \u001b[0mprint\u001b[0m\u001b[0;34m(\u001b[0m\u001b[0mdb\u001b[0m\u001b[0;34m.\u001b[0m\u001b[0mmatch_song\u001b[0m\u001b[0;34m(\u001b[0m\u001b[0mmic_input\u001b[0m\u001b[0;34m)\u001b[0m\u001b[0;34m)\u001b[0m\u001b[0;34m\u001b[0m\u001b[0m\n",
      "\u001b[0;32m/Volumes/GoogleDrive/My Drive/GitHub/BWSI_2018/week1_capstone/pooja/utils.py\u001b[0m in \u001b[0;36minput_mic\u001b[0;34m(listen_time)\u001b[0m\n\u001b[1;32m     47\u001b[0m     \"\"\"\n\u001b[1;32m     48\u001b[0m \u001b[0;34m\u001b[0m\u001b[0m\n\u001b[0;32m---> 49\u001b[0;31m     \u001b[0mframes\u001b[0m\u001b[0;34m,\u001b[0m \u001b[0msample_rate\u001b[0m \u001b[0;34m=\u001b[0m \u001b[0mrecord_audio\u001b[0m\u001b[0;34m(\u001b[0m\u001b[0mlisten_time\u001b[0m\u001b[0;34m)\u001b[0m\u001b[0;34m\u001b[0m\u001b[0m\n\u001b[0m\u001b[1;32m     50\u001b[0m     \u001b[0;31m# saving the digitizes audio data as a numpy array\u001b[0m\u001b[0;34m\u001b[0m\u001b[0;34m\u001b[0m\u001b[0m\n\u001b[1;32m     51\u001b[0m     \u001b[0maudio_data\u001b[0m \u001b[0;34m=\u001b[0m \u001b[0mnp\u001b[0m\u001b[0;34m.\u001b[0m\u001b[0mhstack\u001b[0m\u001b[0;34m(\u001b[0m\u001b[0;34m[\u001b[0m\u001b[0mnp\u001b[0m\u001b[0;34m.\u001b[0m\u001b[0mfrombuffer\u001b[0m\u001b[0;34m(\u001b[0m\u001b[0mi\u001b[0m\u001b[0;34m,\u001b[0m \u001b[0mnp\u001b[0m\u001b[0;34m.\u001b[0m\u001b[0mint16\u001b[0m\u001b[0;34m)\u001b[0m \u001b[0;32mfor\u001b[0m \u001b[0mi\u001b[0m \u001b[0;32min\u001b[0m \u001b[0mframes\u001b[0m\u001b[0;34m]\u001b[0m\u001b[0;34m)\u001b[0m\u001b[0;34m\u001b[0m\u001b[0m\n",
      "\u001b[0;32m/Volumes/GoogleDrive/My Drive/GitHub/BWSI_2018/Week1_Student/Microphone/microphone/__init__.py\u001b[0m in \u001b[0;36mrecord_audio\u001b[0;34m(time, device)\u001b[0m\n\u001b[1;32m     47\u001b[0m         \u001b[0mframes\u001b[0m \u001b[0;34m=\u001b[0m \u001b[0;34m[\u001b[0m\u001b[0;34m]\u001b[0m\u001b[0;34m\u001b[0m\u001b[0m\n\u001b[1;32m     48\u001b[0m         \u001b[0;32mfor\u001b[0m \u001b[0mi\u001b[0m \u001b[0;32min\u001b[0m \u001b[0mrange\u001b[0m\u001b[0;34m(\u001b[0m\u001b[0;36m0\u001b[0m\u001b[0;34m,\u001b[0m \u001b[0mint\u001b[0m\u001b[0;34m(\u001b[0m\u001b[0m_RATE\u001b[0m \u001b[0;34m/\u001b[0m \u001b[0m_CHUNK\u001b[0m \u001b[0;34m*\u001b[0m \u001b[0mtime\u001b[0m\u001b[0;34m)\u001b[0m\u001b[0;34m)\u001b[0m\u001b[0;34m:\u001b[0m\u001b[0;34m\u001b[0m\u001b[0m\n\u001b[0;32m---> 49\u001b[0;31m             \u001b[0mdata\u001b[0m \u001b[0;34m=\u001b[0m \u001b[0mmic\u001b[0m\u001b[0;34m.\u001b[0m\u001b[0mread\u001b[0m\u001b[0;34m(\u001b[0m\u001b[0m_CHUNK\u001b[0m\u001b[0;34m)\u001b[0m\u001b[0;34m\u001b[0m\u001b[0m\n\u001b[0m\u001b[1;32m     50\u001b[0m             \u001b[0mframes\u001b[0m\u001b[0;34m.\u001b[0m\u001b[0mappend\u001b[0m\u001b[0;34m(\u001b[0m\u001b[0mdata\u001b[0m\u001b[0;34m)\u001b[0m\u001b[0;34m\u001b[0m\u001b[0m\n\u001b[1;32m     51\u001b[0m     \u001b[0;32mreturn\u001b[0m \u001b[0mframes\u001b[0m\u001b[0;34m,\u001b[0m \u001b[0m_RATE\u001b[0m\u001b[0;34m\u001b[0m\u001b[0m\n",
      "\u001b[0;32m/anaconda3/lib/python3.6/site-packages/pyaudio.py\u001b[0m in \u001b[0;36mread\u001b[0;34m(self, num_frames, exception_on_overflow)\u001b[0m\n\u001b[1;32m    606\u001b[0m                           paCanNotReadFromAnOutputOnlyStream)\n\u001b[1;32m    607\u001b[0m \u001b[0;34m\u001b[0m\u001b[0m\n\u001b[0;32m--> 608\u001b[0;31m         \u001b[0;32mreturn\u001b[0m \u001b[0mpa\u001b[0m\u001b[0;34m.\u001b[0m\u001b[0mread_stream\u001b[0m\u001b[0;34m(\u001b[0m\u001b[0mself\u001b[0m\u001b[0;34m.\u001b[0m\u001b[0m_stream\u001b[0m\u001b[0;34m,\u001b[0m \u001b[0mnum_frames\u001b[0m\u001b[0;34m,\u001b[0m \u001b[0mexception_on_overflow\u001b[0m\u001b[0;34m)\u001b[0m\u001b[0;34m\u001b[0m\u001b[0m\n\u001b[0m\u001b[1;32m    609\u001b[0m \u001b[0;34m\u001b[0m\u001b[0m\n\u001b[1;32m    610\u001b[0m     \u001b[0;32mdef\u001b[0m \u001b[0mget_read_available\u001b[0m\u001b[0;34m(\u001b[0m\u001b[0mself\u001b[0m\u001b[0;34m)\u001b[0m\u001b[0;34m:\u001b[0m\u001b[0;34m\u001b[0m\u001b[0m\n",
      "\u001b[0;31mKeyboardInterrupt\u001b[0m: "
     ]
    }
   ],
   "source": [
    "while True:\n",
    "    mic_input = pj.input_mic(4)\n",
    "    print(db.match_song(mic_input))"
   ]
  },
  {
   "cell_type": "code",
   "execution_count": null,
   "metadata": {},
   "outputs": [],
   "source": [
    "fs = 44100\n",
    "mp3 = pj.input_mp3(Path(\"MP3s/Demons.mp3\"))\n",
    "print(db.match_song(mp3[2*44100:]))"
   ]
  }
 ],
 "metadata": {
  "kernelspec": {
   "display_name": "Python 3",
   "language": "python",
   "name": "python3"
  },
  "language_info": {
   "codemirror_mode": {
    "name": "ipython",
    "version": 3
   },
   "file_extension": ".py",
   "mimetype": "text/x-python",
   "name": "python",
   "nbconvert_exporter": "python",
   "pygments_lexer": "ipython3",
   "version": "3.6.5"
  }
 },
 "nbformat": 4,
 "nbformat_minor": 2
}
