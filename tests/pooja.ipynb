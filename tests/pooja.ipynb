{
 "cells": [
  {
   "cell_type": "code",
   "execution_count": 3,
   "metadata": {},
   "outputs": [
    {
     "name": "stdout",
     "output_type": "stream",
     "text": [
      "The autoreload extension is already loaded. To reload it, use:\n",
      "  %reload_ext autoreload\n"
     ]
    }
   ],
   "source": [
    "import pooja as pj\n",
    "from pathlib import Path\n",
    "\n",
    "%matplotlib notebook\n",
    "%load_ext autoreload\n",
    "%autoreload 2\n",
    "import matplotlib.pyplot as plt\n",
    "import matplotlib.mlab as mlab"
   ]
  },
  {
   "cell_type": "code",
   "execution_count": 37,
   "metadata": {},
   "outputs": [
    {
     "name": "stdout",
     "output_type": "stream",
     "text": [
      "Popper Requiem for three cellos and piano\n"
     ]
    }
   ],
   "source": [
    "songs = db.database()\n",
    "\n",
    "fs = 44100\n",
    "\n",
    "#db.add_mp3(Path(\"MP3s/Popper Requiem for three cellos and piano.mp3\"), songs)\n",
    "#db.store_database(Path(\"data\"), songs)\n",
    "\n",
    "songs = db.load_database(Path(\"data\"))\n",
    "#print(np.max(utils.input_mic(5)))\n",
    "\n",
    "mp3 = utils.input_mp3(Path(\"MP3s/Popper Requiem for three cellos and piano.mp3\"))\n",
    "#mic = utils.input_mic(15)\n",
    "#print(np.max(mp3[44100*10:44100*15]))\n",
    "print(songs.match_song(mp3[fs*10:fs*12]))"
   ]
  },
  {
   "cell_type": "code",
   "execution_count": 7,
   "metadata": {},
   "outputs": [
    {
     "data": {
      "text/plain": [
       "[PosixPath('MP3s/Ellie Goulding - Lights.mp3'),\n",
       " PosixPath('MP3s/Timeflies - Gravity (Official Audio).mp3'),\n",
       " PosixPath('MP3s/TaeYang - WEDDING DRESS.mp3'),\n",
       " PosixPath('MP3s/Taio Cruz - Telling The World (Audio).mp3'),\n",
       " PosixPath('MP3s/River Flows in You.mp3'),\n",
       " PosixPath('MP3s/Adele - Someone Like You.mp3'),\n",
       " PosixPath('MP3s/Demons.mp3'),\n",
       " PosixPath('MP3s/Popper Requiem for three cellos and piano.mp3')]"
      ]
     },
     "execution_count": 7,
     "metadata": {},
     "output_type": "execute_result"
    }
   ],
   "source": [
    "db = pj.database()\n",
    "\n",
    "path = Path(\"MP3s\")\n",
    "song_names = list(path.glob(\"*.mp3\"))\n",
    "\n",
    "for song_name in song_names:\n",
    "    db.add_mp3(song_name)\n",
    "    \n",
    "db.s"
   ]
  }
 ],
 "metadata": {
  "kernelspec": {
   "display_name": "Python 3",
   "language": "python",
   "name": "python3"
  },
  "language_info": {
   "codemirror_mode": {
    "name": "ipython",
    "version": 3
   },
   "file_extension": ".py",
   "mimetype": "text/x-python",
   "name": "python",
   "nbconvert_exporter": "python",
   "pygments_lexer": "ipython3",
   "version": "3.6.5"
  }
 },
 "nbformat": 4,
 "nbformat_minor": 2
}
