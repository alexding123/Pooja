{
 "cells": [
  {
   "cell_type": "code",
   "execution_count": 1,
   "metadata": {},
   "outputs": [],
   "source": [
    "from collections import Counter"
   ]
  },
  {
   "cell_type": "code",
   "execution_count": 2,
   "metadata": {},
   "outputs": [
    {
     "name": "stdout",
     "output_type": "stream",
     "text": [
      "[((2923, 537, 1), 2), ((2923, 2878, 1), 2), ((2923, 2889, 1), 2), ((2923, 932, 2), 2), ((2923, 1098, 2), 2), ((2923, 1131, 2), 2), ((2923, 1198, 2), 2), ((2923, 1596, 2), 2), ((2923, 1629, 2), 2), ((2923, 1777, 2), 2)]\n"
     ]
    },
    {
     "data": {
      "text/plain": [
       "'Warriors'"
      ]
     },
     "execution_count": 2,
     "metadata": {},
     "output_type": "execute_result"
    }
   ],
   "source": [
    "import database as db\n",
    "from pathlib import Path\n",
    "from utils import input_mp3\n",
    "d = db.database()\n",
    "db.add_mp3(Path(\"./.mp3\"),d)\n",
    "db.add_mp3(Path(\"./.mp3\"),d)\n",
    "db.add_mp3(Path(\"./.mp3\"),d)\n",
    "db.add_mp3(Path(\"./.mp3\"),d)\n",
    "db.match_song(input_mp3(Path(\"./.mp3\")),d)"
   ]
  },
  {
   "cell_type": "code",
   "execution_count": 10,
   "metadata": {},
   "outputs": [
    {
     "data": {
      "text/plain": [
       "0"
      ]
     },
     "execution_count": 10,
     "metadata": {},
     "output_type": "execute_result"
    }
   ],
   "source": []
  },
  {
   "cell_type": "code",
   "execution_count": null,
   "metadata": {},
   "outputs": [],
   "source": []
  }
 ],
 "metadata": {
  "kernelspec": {
   "display_name": "Python 3",
   "language": "python",
   "name": "python3"
  },
  "language_info": {
   "codemirror_mode": {
    "name": "ipython",
    "version": 3
   },
   "file_extension": ".py",
   "mimetype": "text/x-python",
   "name": "python",
   "nbconvert_exporter": "python",
   "pygments_lexer": "ipython3",
   "version": "3.6.5"
  }
 },
 "nbformat": 4,
 "nbformat_minor": 2
}
